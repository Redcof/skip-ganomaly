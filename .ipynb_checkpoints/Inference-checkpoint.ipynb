{
 "cells": [
  {
   "cell_type": "code",
   "execution_count": 1,
   "id": "a076951b",
   "metadata": {},
   "outputs": [],
   "source": [
    "from options import Options\n",
    "from lib.data.dataloader import load_data\n",
    "from lib.models import load_model"
   ]
  },
  {
   "cell_type": "code",
   "execution_count": 8,
   "id": "e9c1eb7a",
   "metadata": {},
   "outputs": [],
   "source": [
    "class Option:...\n",
    "\n",
    "opt = Option()\n",
    "opt.model = 'skipganomaly'\n",
    "opt.resume = 'output/skipganomaly/sixray_sd3/train/weights/last'\n"
   ]
  },
  {
   "cell_type": "code",
   "execution_count": 2,
   "id": "65fefa96",
   "metadata": {},
   "outputs": [
    {
     "ename": "NameError",
     "evalue": "name 'opt' is not defined",
     "output_type": "error",
     "traceback": [
      "\u001b[1;31m---------------------------------------------------------------------------\u001b[0m",
      "\u001b[1;31mNameError\u001b[0m                                 Traceback (most recent call last)",
      "Cell \u001b[1;32mIn [2], line 1\u001b[0m\n\u001b[1;32m----> 1\u001b[0m data \u001b[38;5;241m=\u001b[39m load_data(\u001b[43mopt\u001b[49m)\n\u001b[0;32m      2\u001b[0m model \u001b[38;5;241m=\u001b[39m load_model(opt, data)\n",
      "\u001b[1;31mNameError\u001b[0m: name 'opt' is not defined"
     ]
    }
   ],
   "source": [
    "data = load_data(opt)\n",
    "model = load_model(opt, data)"
   ]
  },
  {
   "cell_type": "code",
   "execution_count": null,
   "id": "9d9c6d88",
   "metadata": {},
   "outputs": [],
   "source": []
  }
 ],
 "metadata": {
  "kernelspec": {
   "display_name": "atz",
   "language": "python",
   "name": "atz"
  },
  "language_info": {
   "codemirror_mode": {
    "name": "ipython",
    "version": 3
   },
   "file_extension": ".py",
   "mimetype": "text/x-python",
   "name": "python",
   "nbconvert_exporter": "python",
   "pygments_lexer": "ipython3",
   "version": "3.8.15"
  }
 },
 "nbformat": 4,
 "nbformat_minor": 5
}
